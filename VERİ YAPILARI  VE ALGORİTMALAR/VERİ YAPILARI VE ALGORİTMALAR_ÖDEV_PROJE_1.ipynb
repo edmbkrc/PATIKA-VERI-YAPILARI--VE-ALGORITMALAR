{
 "cells": [
  {
   "cell_type": "markdown",
   "id": "be59295c",
   "metadata": {},
   "source": [
    "## Proje 1\n",
    "## [22,27,16,2,18,6] -> Insertion Sort\n",
    "\n",
    "# a-Yukarı verilen dizinin sort türüne göre aşamalarını yazınız.\n",
    "# b-Big-O gösterimini yazınız.\n",
    "# c-Time Complexity: Average case: Aradığımız sayının ortada olması,Worst case: Aradığımız sayının sonda olması, Best case:        Aradığımız sayının dizinin en başında olması.\n",
    "# d-Dizi sıralandıktan sonra 18 sayısı hangi case kapsamına girer? Yazınız.\n",
    "\n",
    "\n",
    "# e-[7,3,5,8,2,9,4,15,6] dizisinin Insertion Sort'a göre ilk 4 adımını yazınız. "
   ]
  },
  {
   "cell_type": "code",
   "execution_count": 3,
   "id": "f4ac3708",
   "metadata": {},
   "outputs": [],
   "source": [
    "# PROJE 1 ÇÖZÜM\n",
    "# a\n",
    "# 1- [2,27,16,22,18,6] \n",
    "# 2- [2,6,16,22,18,27] \n",
    "# 3-[2,6,16,18,22,27]\n"
   ]
  },
  {
   "cell_type": "code",
   "execution_count": 4,
   "id": "82543b89",
   "metadata": {},
   "outputs": [],
   "source": [
    "# b\n",
    "# işlem sayısı n*(n+1)/2 = ((n**2 + n) / 2) olduğundan baskın olan n^2 olduğundan big O gösterimi O(n^2) olur."
   ]
  },
  {
   "cell_type": "code",
   "execution_count": 5,
   "id": "5da15c82",
   "metadata": {},
   "outputs": [],
   "source": [
    "# c\n",
    "# Best Case: 2\n",
    "# Average Case: 16,18\n",
    "# Worst Case: 27"
   ]
  },
  {
   "cell_type": "code",
   "execution_count": 6,
   "id": "1cda0fa0",
   "metadata": {},
   "outputs": [],
   "source": [
    "# d\n",
    "# Average Case"
   ]
  },
  {
   "cell_type": "code",
   "execution_count": 7,
   "id": "85c865e0",
   "metadata": {},
   "outputs": [],
   "source": [
    "# e\n",
    "# [2,3,5,8,7,9,4,15,6]\n",
    "# [2,3,4,8,7,9,5,15,6]\n",
    "# [2,3,4,5,7,9,8,15,6]\n",
    "# [2,3,4,5,6,9,8,15,7]"
   ]
  },
  {
   "cell_type": "code",
   "execution_count": null,
   "id": "bfc6ecbd",
   "metadata": {},
   "outputs": [],
   "source": [
    "\n"
   ]
  }
 ],
 "metadata": {
  "kernelspec": {
   "display_name": "Python 3 (ipykernel)",
   "language": "python",
   "name": "python3"
  },
  "language_info": {
   "codemirror_mode": {
    "name": "ipython",
    "version": 3
   },
   "file_extension": ".py",
   "mimetype": "text/x-python",
   "name": "python",
   "nbconvert_exporter": "python",
   "pygments_lexer": "ipython3",
   "version": "3.9.7"
  }
 },
 "nbformat": 4,
 "nbformat_minor": 5
}
