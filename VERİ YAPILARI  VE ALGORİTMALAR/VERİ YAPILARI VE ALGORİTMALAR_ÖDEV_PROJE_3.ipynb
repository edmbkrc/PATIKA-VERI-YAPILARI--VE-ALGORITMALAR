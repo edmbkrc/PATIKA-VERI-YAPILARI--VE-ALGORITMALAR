{
 "cells": [
  {
   "cell_type": "code",
   "execution_count": null,
   "id": "adb4075e",
   "metadata": {},
   "outputs": [],
   "source": [
    "## [7, 5, 1, 8, 3, 6, 0, 9, 4, 2] dizisinin Binary-Search-Tree aşamalarını yazınız. (root x'dir. root'un sağından y bulunur. Solunda z bulunur vb.)\n",
    "\n",
    "# CEVAP:\n",
    "# İlk eleman root olarak seçilir.\n",
    "# Sonra gelen elemanlar root dan aşağı doğru bakılarak büyükse sağa küçükse sola dallanır.\n",
    "\n",
    "                7\n",
    "              /   \\\n",
    "             5     8\n",
    "            / \\     \\\n",
    "           1   6     9\n",
    "          / \\\n",
    "         0   3\n",
    "            / \\\n",
    "           2   4\n",
    "            \n",
    "             "
   ]
  }
 ],
 "metadata": {
  "kernelspec": {
   "display_name": "Python 3 (ipykernel)",
   "language": "python",
   "name": "python3"
  },
  "language_info": {
   "codemirror_mode": {
    "name": "ipython",
    "version": 3
   },
   "file_extension": ".py",
   "mimetype": "text/x-python",
   "name": "python",
   "nbconvert_exporter": "python",
   "pygments_lexer": "ipython3",
   "version": "3.9.7"
  }
 },
 "nbformat": 4,
 "nbformat_minor": 5
}
