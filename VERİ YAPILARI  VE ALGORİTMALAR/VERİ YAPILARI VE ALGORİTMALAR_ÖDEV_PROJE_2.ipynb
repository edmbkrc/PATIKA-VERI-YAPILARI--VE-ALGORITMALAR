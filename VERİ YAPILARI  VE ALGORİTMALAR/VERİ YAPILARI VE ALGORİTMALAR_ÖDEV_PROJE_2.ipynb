{
 "cells": [
  {
   "cell_type": "markdown",
   "id": "d124bcf9",
   "metadata": {},
   "source": [
    "## Proje 2\n",
    "[16,21,11,8,12,22] -> Merge Sort\n",
    "\n",
    "Yukarıdaki dizinin sort türüne göre aşamalarını yazınız.\n",
    "Big-O gösterimini yazınız."
   ]
  },
  {
   "cell_type": "code",
   "execution_count": null,
   "id": "05a12107",
   "metadata": {},
   "outputs": [],
   "source": [
    "## [16,21,11,8,12,22] -> Merge Sort\n",
    "\n",
    "# a)Yukarıdaki dizinin sort türüne göre aşamalarını yazınız.\n",
    "# b)Big-O gösterimini yazınız.\n",
    "\n",
    "# CEVAP: a)\n",
    "# [16,21,11] [8,12,22]\n",
    "# 16 [21,11] 8 [12,22]\n",
    "# 16 21 11 8 12 22\n",
    "# 16 [11,21] 8 [12,22]\n",
    "# [11,16,21] [8,12,22]\n",
    "# [8,11,12,16,21,22]\n",
    "\n",
    "# b)ikiye bölme (2^x = n)'den x=log(n) defa yapılır. Her bir adımın time complexity değeri O(n) olduğu için genel ifademiz;\n",
    "# O(nlog(n))"
   ]
  }
 ],
 "metadata": {
  "kernelspec": {
   "display_name": "Python 3 (ipykernel)",
   "language": "python",
   "name": "python3"
  },
  "language_info": {
   "codemirror_mode": {
    "name": "ipython",
    "version": 3
   },
   "file_extension": ".py",
   "mimetype": "text/x-python",
   "name": "python",
   "nbconvert_exporter": "python",
   "pygments_lexer": "ipython3",
   "version": "3.9.7"
  }
 },
 "nbformat": 4,
 "nbformat_minor": 5
}
